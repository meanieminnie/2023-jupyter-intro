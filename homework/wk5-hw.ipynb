{
 "cells": [
  {
   "cell_type": "markdown",
   "id": "bb333aa4",
   "metadata": {},
   "source": [
    "# NYC traffic accidents 2019-2020  \n",
    "## Filter and Subset\n"
   ]
  },
  {
   "cell_type": "code",
   "execution_count": null,
   "id": "3a4e3c74",
   "metadata": {},
   "outputs": [],
   "source": [
    "## import necessary libraries\n",
    "import pandas as pd"
   ]
  },
  {
   "cell_type": "code",
   "execution_count": null,
   "id": "506891bb",
   "metadata": {},
   "outputs": [],
   "source": [
    "## read the dataset into notebook\n",
    "\n",
    "df = pd.read_csv(\"https://raw.githubusercontent.com/sandeepmj/datasets/main/nyc-accidents.csv\")"
   ]
  },
  {
   "cell_type": "code",
   "execution_count": null,
   "id": "d30e9e49",
   "metadata": {},
   "outputs": [],
   "source": [
    "## show the data frame\n",
    "df"
   ]
  },
  {
   "cell_type": "code",
   "execution_count": null,
   "id": "d20d8cde",
   "metadata": {},
   "outputs": [],
   "source": [
    "## see the overall info about this dataset\n",
    "df.info()"
   ]
  },
  {
   "cell_type": "code",
   "execution_count": null,
   "id": "ada92369",
   "metadata": {},
   "outputs": [],
   "source": [
    "## how many types of vehicles were the primary cause of the accidents\n",
    "df[\"VEHICLE TYPE CODE 1\"].nunique()"
   ]
  },
  {
   "cell_type": "code",
   "execution_count": null,
   "id": "d556522d",
   "metadata": {},
   "outputs": [],
   "source": [
    "## which type of vehicle was primary vehicle involved in crashes?\n",
    "## SHOW ONLY THE TOP 7\n",
    "\n",
    "df[\"VEHICLE TYPE CODE 1\"].value_counts().head(7)"
   ]
  },
  {
   "cell_type": "code",
   "execution_count": null,
   "id": "0cad6845",
   "metadata": {},
   "outputs": [],
   "source": [
    "## create a series of the crash dates.\n",
    "df[\"CRASH DATE\"]"
   ]
  },
  {
   "cell_type": "code",
   "execution_count": null,
   "id": "f2b6b17a",
   "metadata": {},
   "outputs": [],
   "source": [
    "## Which borough had the most crashes?\n"
   ]
  },
  {
   "cell_type": "code",
   "execution_count": null,
   "id": "83dfc384",
   "metadata": {},
   "outputs": [],
   "source": [
    "## What were a FIVE least encountered primary vehicles to get into a crash?\n"
   ]
  },
  {
   "cell_type": "code",
   "execution_count": null,
   "id": "8df45602",
   "metadata": {},
   "outputs": [],
   "source": [
    "## create a subset of data for only Queens\n",
    "## place it in a dataframe called df_q\n"
   ]
  },
  {
   "cell_type": "code",
   "execution_count": null,
   "id": "f7eee32b",
   "metadata": {},
   "outputs": [],
   "source": [
    "## How many people were killed in Queens in accidents?\n"
   ]
  },
  {
   "cell_type": "code",
   "execution_count": null,
   "id": "be6822f8",
   "metadata": {},
   "outputs": [],
   "source": [
    "## how many cyclists were killed in Queens?\n",
    "\n"
   ]
  },
  {
   "cell_type": "markdown",
   "id": "c82ffef3",
   "metadata": {},
   "source": [
    "**Syntax for querying multi-word column names:**\n",
    "\n",
    "```dataframe.query('`column name` comparison_operator value')```\n",
    "\n",
    "Note the opening and closing tick marks ``` ` ```"
   ]
  },
  {
   "cell_type": "code",
   "execution_count": null,
   "id": "907f1f21",
   "metadata": {},
   "outputs": [],
   "source": [
    "## create a dataset for Manhattan AND TAXIS only\n",
    "\n"
   ]
  },
  {
   "cell_type": "code",
   "execution_count": null,
   "id": "32704f24",
   "metadata": {},
   "outputs": [],
   "source": [
    "## What were the top 8 causes of accidents across all the boroughs?\n",
    "## by primary vehicle cause\n",
    "\n"
   ]
  },
  {
   "cell_type": "code",
   "execution_count": null,
   "id": "77e3122f",
   "metadata": {},
   "outputs": [],
   "source": [
    "## What were the top 8 causes of accidents across all the boroughs?\n",
    "## by secondary vehicle cause\n",
    "\n"
   ]
  },
  {
   "cell_type": "code",
   "execution_count": null,
   "id": "d524c89e",
   "metadata": {},
   "outputs": [],
   "source": [
    "## What were the 5 fewest causes for primary vehicles causing the accident\n"
   ]
  },
  {
   "cell_type": "markdown",
   "id": "37d76f36",
   "metadata": {},
   "source": [
    "##  DON'T DO THE ONES BELOW\n",
    "I did not cover it yet"
   ]
  },
  {
   "cell_type": "code",
   "execution_count": null,
   "id": "f551ca6a",
   "metadata": {},
   "outputs": [],
   "source": [
    "## How many unique values are there for primary reasons for accidents\n"
   ]
  },
  {
   "cell_type": "code",
   "execution_count": null,
   "id": "c67fbfac",
   "metadata": {},
   "outputs": [],
   "source": [
    "## list ALL the causes as unique values (in other words, create a list of the causes)\n",
    "\n"
   ]
  },
  {
   "cell_type": "code",
   "execution_count": null,
   "id": "3f7ad5c2",
   "metadata": {},
   "outputs": [],
   "source": []
  }
 ],
 "metadata": {
  "kernelspec": {
   "display_name": "Python 3 (ipykernel)",
   "language": "python",
   "name": "python3"
  },
  "language_info": {
   "codemirror_mode": {
    "name": "ipython",
    "version": 3
   },
   "file_extension": ".py",
   "mimetype": "text/x-python",
   "name": "python",
   "nbconvert_exporter": "python",
   "pygments_lexer": "ipython3",
   "version": "3.9.13"
  }
 },
 "nbformat": 4,
 "nbformat_minor": 5
}
