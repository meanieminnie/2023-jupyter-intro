{
 "cells": [
  {
   "cell_type": "markdown",
   "id": "fe11e9b7",
   "metadata": {},
   "source": [
    "# Working with iPython notebooks\n",
    "\n",
    "## Code v. Markup\n",
    "\n",
    "Let's explore these basic concepts in this notebook"
   ]
  },
  {
   "cell_type": "code",
   "execution_count": 1,
   "id": "e54161bc",
   "metadata": {},
   "outputs": [
    {
     "name": "stdout",
     "output_type": "stream",
     "text": [
      "Hello World\n"
     ]
    }
   ],
   "source": [
    "## Traditional kickoff for learning to code\n",
    "print(\"Hello World\")"
   ]
  },
  {
   "cell_type": "code",
   "execution_count": 2,
   "id": "c63d5620",
   "metadata": {},
   "outputs": [
    {
     "name": "stdout",
     "output_type": "stream",
     "text": [
      "Python 3.9.13\r\n"
     ]
    }
   ],
   "source": [
    "## check what version of Python i have on my computer\n",
    "!python --version"
   ]
  },
  {
   "cell_type": "code",
   "execution_count": 3,
   "id": "ed1e34a0",
   "metadata": {},
   "outputs": [
    {
     "data": {
      "text/plain": [
       "4"
      ]
     },
     "execution_count": 3,
     "metadata": {},
     "output_type": "execute_result"
    }
   ],
   "source": [
    "## add because i cant\n",
    "2 + 2"
   ]
  },
  {
   "cell_type": "code",
   "execution_count": 4,
   "id": "9137d746",
   "metadata": {},
   "outputs": [
    {
     "data": {
      "text/plain": [
       "4.166666666666667"
      ]
     },
     "execution_count": 4,
     "metadata": {},
     "output_type": "execute_result"
    }
   ],
   "source": [
    "## simple division\n",
    "25 / 6"
   ]
  },
  {
   "cell_type": "code",
   "execution_count": 5,
   "id": "c7f98b05",
   "metadata": {},
   "outputs": [
    {
     "data": {
      "text/plain": [
       "1"
      ]
     },
     "execution_count": 5,
     "metadata": {},
     "output_type": "execute_result"
    }
   ],
   "source": [
    "## modulus: when 25 divided by 2 what is remainder\n",
    "\n",
    "25 % 2"
   ]
  },
  {
   "cell_type": "markdown",
   "id": "25c1fb26",
   "metadata": {},
   "source": [
    "## list of fav dogs\n",
    "\n",
    "Here are my favourite dogs\n",
    "\n",
    "* Glorious\n",
    "* Harley\n",
    "* Raven\n",
    "* Gaddav\n",
    "\n",
    "## source of data\n",
    "I found this data inside my brain \n"
   ]
  },
  {
   "cell_type": "code",
   "execution_count": null,
   "id": "ddadd0cb",
   "metadata": {},
   "outputs": [],
   "source": []
  }
 ],
 "metadata": {
  "kernelspec": {
   "display_name": "Python 3 (ipykernel)",
   "language": "python",
   "name": "python3"
  },
  "language_info": {
   "codemirror_mode": {
    "name": "ipython",
    "version": 3
   },
   "file_extension": ".py",
   "mimetype": "text/x-python",
   "name": "python",
   "nbconvert_exporter": "python",
   "pygments_lexer": "ipython3",
   "version": "3.9.13"
  }
 },
 "nbformat": 4,
 "nbformat_minor": 5
}
